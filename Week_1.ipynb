{
  "nbformat": 4,
  "nbformat_minor": 0,
  "metadata": {
    "colab": {
      "provenance": []
    },
    "kernelspec": {
      "name": "python3",
      "display_name": "Python 3"
    },
    "language_info": {
      "name": "python"
    }
  },
  "cells": [
    {
      "cell_type": "markdown",
      "source": [
        "Name: Prerana Mhatre"
      ],
      "metadata": {
        "id": "SdQu6WIXYykB"
      }
    },
    {
      "cell_type": "code",
      "execution_count": 1,
      "metadata": {
        "colab": {
          "base_uri": "https://localhost:8080/"
        },
        "id": "qDMlEUoLUHAX",
        "outputId": "e755046f-305c-4fa0-e126-aa0f382271ce"
      },
      "outputs": [
        {
          "output_type": "stream",
          "name": "stdout",
          "text": [
            "Lower Triangular Pattern:\n",
            "* \n",
            "* * \n",
            "* * * \n",
            "* * * * \n",
            "* * * * * \n"
          ]
        }
      ],
      "source": [
        "rows = 5  # Number of rows for the patterns\n",
        "\n",
        "# Lower Triangular Pattern\n",
        "print(\"Lower Triangular Pattern:\")  # Label for clarity\n",
        "for i in range(1, rows + 1):        # Loop from 1 to number of rows\n",
        "    print(\"* \" * i)                 # Print i stars in each row\n",
        "\n"
      ]
    },
    {
      "cell_type": "code",
      "source": [
        "# Upper Triangular Pattern\n",
        "print(\"\\nUpper Triangular Pattern:\")  # Newline + label\n",
        "for i in range(rows, 0, -1):          # Loop from number of rows down to 1\n",
        "    print(\"* \" * i)                   # Print i stars in each row\n",
        "\n"
      ],
      "metadata": {
        "colab": {
          "base_uri": "https://localhost:8080/"
        },
        "id": "OomQHVI5XoMh",
        "outputId": "6d8c1d6a-6f86-4ff5-a95f-aa15f86b2a58"
      },
      "execution_count": 2,
      "outputs": [
        {
          "output_type": "stream",
          "name": "stdout",
          "text": [
            "\n",
            "Upper Triangular Pattern:\n",
            "* * * * * \n",
            "* * * * \n",
            "* * * \n",
            "* * \n",
            "* \n"
          ]
        }
      ]
    },
    {
      "cell_type": "code",
      "source": [
        "# Pyramid Pattern\n",
        "print(\"\\nPyramid Pattern:\")           # Newline + label\n",
        "for i in range(1, rows + 1):          # Loop from 1 to number of rows\n",
        "    print(\" \" * (rows - i) + \"* \" * i)  # Print spaces then stars to center the pyramid\n"
      ],
      "metadata": {
        "colab": {
          "base_uri": "https://localhost:8080/"
        },
        "id": "k9Yqb-TiXsgo",
        "outputId": "9025be1b-c84c-4554-a7be-895548eb2182"
      },
      "execution_count": 3,
      "outputs": [
        {
          "output_type": "stream",
          "name": "stdout",
          "text": [
            "\n",
            "Pyramid Pattern:\n",
            "    * \n",
            "   * * \n",
            "  * * * \n",
            " * * * * \n",
            "* * * * * \n"
          ]
        }
      ]
    }
  ]
}